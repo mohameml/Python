{
 "cells": [
  {
   "cell_type": "markdown",
   "metadata": {},
   "source": [
    "# Exercice 01 \n"
   ]
  },
  {
   "cell_type": "code",
   "execution_count": 21,
   "metadata": {},
   "outputs": [
    {
     "data": {
      "text/plain": [
       "array([[-0.49970428,  0.01470873,  1.        ],\n",
       "       [ 2.50503648,  0.20652566,  1.        ],\n",
       "       [-0.71603341,  0.08512527,  1.        ],\n",
       "       [-0.11665588,  0.74299619,  1.        ],\n",
       "       [ 1.47716975, -1.24469559,  1.        ]])"
      ]
     },
     "execution_count": 21,
     "metadata": {},
     "output_type": "execute_result"
    }
   ],
   "source": [
    "import numpy as np\n",
    "\n",
    "def initialisation(m,n) :\n",
    "    # m : nombre de ligne \n",
    "    # n : nombre de colonnes\n",
    "    # return une matrice aléatoire (m,n+1)\n",
    "    # avce une colonne de biais (remplir de \"1\") tout à droite \n",
    "    \n",
    "    A = np.random.randn(m,n)\n",
    "    y = np.linspace(1 , 1 , m)\n",
    "    y = y.reshape((y.shape[0] , 1))\n",
    "    assert(y.shape == (m ,1))\n",
    "\n",
    "    if A.shape[0] == y.shape[0] :\n",
    "        A = np.concatenate((A,y) , axis = 1)\n",
    "    else : \n",
    "        print(\"Erreur :A.shape[0]  != y.shape[0]\")\n",
    "\n",
    "\n",
    "    return A \n",
    "\n",
    "A = initialisation(5 , 2)\n",
    "\n",
    "A"
   ]
  }
 ],
 "metadata": {
  "kernelspec": {
   "display_name": "Python 3",
   "language": "python",
   "name": "python3"
  },
  "language_info": {
   "codemirror_mode": {
    "name": "ipython",
    "version": 3
   },
   "file_extension": ".py",
   "mimetype": "text/x-python",
   "name": "python",
   "nbconvert_exporter": "python",
   "pygments_lexer": "ipython3",
   "version": "3.10.12"
  }
 },
 "nbformat": 4,
 "nbformat_minor": 2
}
