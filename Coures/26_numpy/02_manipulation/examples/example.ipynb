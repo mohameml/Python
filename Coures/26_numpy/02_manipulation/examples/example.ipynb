{
 "cells": [
  {
   "cell_type": "markdown",
   "metadata": {},
   "source": [
    "## Manupliation des objets ndarry "
   ]
  },
  {
   "cell_type": "code",
   "execution_count": 1,
   "metadata": {},
   "outputs": [],
   "source": [
    "# Importer les biblothéques\n",
    "import numpy as np\n"
   ]
  },
  {
   "cell_type": "markdown",
   "metadata": {},
   "source": [
    "## 1. Concatenation "
   ]
  },
  {
   "cell_type": "code",
   "execution_count": 18,
   "metadata": {},
   "outputs": [
    {
     "name": "stdout",
     "output_type": "stream",
     "text": [
      "[[1. 1. 1.]\n",
      " [1. 1. 1.]\n",
      " [1. 1. 1.]]\n",
      "[[0. 0. 0.]\n",
      " [0. 0. 0.]\n",
      " [0. 0. 0.]]\n",
      "hstack((A,B)) = [[1. 1. 1. 0. 0. 0.]\n",
      " [1. 1. 1. 0. 0. 0.]\n",
      " [1. 1. 1. 0. 0. 0.]]\n",
      "vstack((A,B)) = [[1. 1. 1.]\n",
      " [1. 1. 1.]\n",
      " [1. 1. 1.]\n",
      " [0. 0. 0.]\n",
      " [0. 0. 0.]\n",
      " [0. 0. 0.]]\n",
      "concatenate avce Axis = 0 :\n",
      "\t[[1. 1. 1.]\n",
      " [1. 1. 1.]\n",
      " [1. 1. 1.]\n",
      " [0. 0. 0.]\n",
      " [0. 0. 0.]\n",
      " [0. 0. 0.]]\n",
      "concatenate avce Axis = 1 :\n",
      "\t[[1. 1. 1. 0. 0. 0.]\n",
      " [1. 1. 1. 0. 0. 0.]\n",
      " [1. 1. 1. 0. 0. 0.]]\n"
     ]
    }
   ],
   "source": [
    "# la fontion hstack \n",
    "A = np.ones((3,3))\n",
    "B = np.zeros((3 ,3))\n",
    "\n",
    "if A.shape[0] == B.shape[0] :\n",
    "    C = np.hstack((A , B))\n",
    "    \n",
    "print(A)\n",
    "print(B)\n",
    "print(f\"hstack((A,B)) = {C}\" )\n",
    "\n",
    "\n",
    "\n",
    "# la fonction vstack \n",
    "\n",
    "if A.shape[1] == B.shape[1] :\n",
    "    D = np.vstack((A,B))\n",
    "\n",
    "print(f\"vstack((A,B)) = {D}\")\n",
    "\n",
    "\n",
    "\n",
    "# la fonction concatenate :\n",
    "\n",
    "\n",
    "# avce axis  = 0 => la fonction vstack \n",
    "\n",
    "E = np.concatenate((A,B) , axis = 0)\n",
    "print(\"concatenate avce Axis = 0 :\")\n",
    "print(\"\\t\" , end=\"\")\n",
    "print(E)\n",
    "\n",
    "\n",
    "# avce axis  = 1 => la fonction hstack \n",
    "\n",
    "F = np.concatenate((A,B) , axis = 1)\n",
    "print(\"concatenate avce Axis = 1 :\")\n",
    "print(\"\\t\" , end=\"\")\n",
    "print(F)"
   ]
  },
  {
   "cell_type": "markdown",
   "metadata": {},
   "source": [
    "## 2. les fonctions des Redimensionnement des ``ndarry``:"
   ]
  },
  {
   "cell_type": "code",
   "execution_count": 41,
   "metadata": {},
   "outputs": [
    {
     "name": "stdout",
     "output_type": "stream",
     "text": [
      "[[ 1  2  3  4]\n",
      " [ 5  6  7  8]\n",
      " [ 9 10 11 12]]\n",
      "(3, 4)\n",
      "===== Respahe(4,3) =========\n",
      "[[ 1  2  3]\n",
      " [ 4  5  6]\n",
      " [ 7  8  9]\n",
      " [10 11 12]]\n",
      "(4, 3)\n"
     ]
    },
    {
     "data": {
      "text/plain": [
       "array([[1, 2],\n",
       "       [3, 4],\n",
       "       [5, 6]])"
      ]
     },
     "execution_count": 41,
     "metadata": {},
     "output_type": "execute_result"
    }
   ],
   "source": [
    "# une matrice (3,4) => (4,3)\n",
    "\n",
    "A = np.array([[1 , 2 , 3, 4] ,\n",
    "            [5, 6 , 7 , 8],\n",
    "            [9 , 10 , 11 , 12]])\n",
    "print(A)\n",
    "print(A.shape)\n",
    "\n",
    "\n",
    "# redi vers (4 ,3)\n",
    "\n",
    "A = A.reshape((4,3))\n",
    "print(\"===== Respahe(4,3) =========\")\n",
    "print(A)\n",
    "print(A.shape)\n",
    "\n",
    "\n",
    "# \n",
    "\n",
    "# Création d'un tableau unidimensionnel\n",
    "a = np.array([1, 2, 3, 4, 5, 6])\n",
    "\n",
    "# Remodelage en un tableau 2D de 3 lignes et 2 colonnes\n",
    "result = np.reshape(a, (3, 2))\n",
    "result"
   ]
  },
  {
   "cell_type": "code",
   "execution_count": 37,
   "metadata": {},
   "outputs": [
    {
     "name": "stdout",
     "output_type": "stream",
     "text": [
      "[1 2 4 5]\n",
      "(4,)\n",
      "(4, 1)\n",
      "[1 2 4 5]\n",
      "(4,)\n"
     ]
    },
    {
     "data": {
      "text/plain": [
       "array([1, 2, 4, 5])"
      ]
     },
     "execution_count": 37,
     "metadata": {},
     "output_type": "execute_result"
    }
   ],
   "source": [
    "# la fonction sequeeze()\n",
    "\n",
    "B = np.array([1 , 2 , 4 , 5])\n",
    "print(B)\n",
    "\n",
    "print(B.shape)\n",
    "\n",
    "# redi vers (4,1)\n",
    "B = B.reshape((B.shape[0] , 1))\n",
    "print(B.shape)\n",
    "\n",
    "# la fonction sequeeze()\n",
    "C = np.squeeze(B)\n",
    "print(C)\n",
    "print(C.shape)\n",
    "\n",
    "B.squeeze()"
   ]
  },
  {
   "cell_type": "code",
   "execution_count": 44,
   "metadata": {},
   "outputs": [
    {
     "name": "stdout",
     "output_type": "stream",
     "text": [
      "(3, 2)\n",
      "(6,)\n"
     ]
    }
   ],
   "source": [
    "# la fonction ravel :\n",
    "\n",
    "A = np.random.randn(3 ,2)\n",
    "A\n",
    "print(A.shape)\n",
    "B = np.ravel(A)\n",
    "print(B.shape)"
   ]
  }
 ],
 "metadata": {
  "kernelspec": {
   "display_name": "Python 3",
   "language": "python",
   "name": "python3"
  },
  "language_info": {
   "codemirror_mode": {
    "name": "ipython",
    "version": 3
   },
   "file_extension": ".py",
   "mimetype": "text/x-python",
   "name": "python",
   "nbconvert_exporter": "python",
   "pygments_lexer": "ipython3",
   "version": "3.10.12"
  }
 },
 "nbformat": 4,
 "nbformat_minor": 2
}
